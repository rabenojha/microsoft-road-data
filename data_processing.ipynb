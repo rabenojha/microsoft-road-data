import json
import geopandas as gpd
import pandas as pd
import gdal


# Reading the TSV file
df = pd.read_csv('AsiaSouth-Full.tsv', sep='\t',header=None)
df

# As the data has no column name, we will add column name
df.columns =['Country', 'Feature']

# selecting one specific country for fast processing as data is huge ( NPL for Nepal) 
df2 = df [df['Country'] == 'NPL']
df2


# creates 'output.geojson' in your pwd 

features = []
for _, row in df2.iterrows():
    feature = json.loads(row['Feature'])
    features.append(feature)

geojson = {
    'type': 'FeatureCollection',
    'features': features
}
with open('output.geojson', 'w') as f:
    json.dump(geojson, f)


# converts above created geojson file to 'output.gpkg'

geojson_ds = gdal.OpenEx('output.geojson', gdal.OF_VECTOR)
driver = gdal.GetDriverByName('GPKG')
output_ds = driver.Create('output.gpkg', 0, 0, 0, gdal.GDT_Unknown)
gdal.VectorTranslate(output_ds, geojson_ds, format='GPKG')
